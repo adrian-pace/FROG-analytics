{
 "cells": [
  {
   "cell_type": "code",
   "execution_count": 1,
   "metadata": {
    "collapsed": true
   },
   "outputs": [],
   "source": [
    "import pymongo"
   ]
  },
  {
   "cell_type": "code",
   "execution_count": 2,
   "metadata": {
    "collapsed": true
   },
   "outputs": [],
   "source": [
    "from pymongo import MongoClient"
   ]
  },
  {
   "cell_type": "code",
   "execution_count": 9,
   "metadata": {
    "collapsed": true
   },
   "outputs": [],
   "source": [
    "client = MongoClient()"
   ]
  },
  {
   "cell_type": "code",
   "execution_count": 16,
   "metadata": {},
   "outputs": [
    {
     "data": {
      "text/plain": [
       "27017"
      ]
     },
     "execution_count": 16,
     "metadata": {},
     "output_type": "execute_result"
    }
   ],
   "source": [
    "client.database_names()\n",
    "client.PORT"
   ]
  },
  {
   "cell_type": "code",
   "execution_count": 18,
   "metadata": {},
   "outputs": [
    {
     "data": {
      "text/plain": [
       "['admin', 'config', 'local', 'my-collaborative-app']"
      ]
     },
     "execution_count": 18,
     "metadata": {},
     "output_type": "execute_result"
    }
   ],
   "source": [
    "client.database_names()"
   ]
  },
  {
   "cell_type": "code",
   "execution_count": 19,
   "metadata": {
    "collapsed": true
   },
   "outputs": [],
   "source": [
    "db = client['my-collaborative-app']"
   ]
  },
  {
   "cell_type": "code",
   "execution_count": 21,
   "metadata": {},
   "outputs": [
    {
     "data": {
      "text/plain": [
       "['o_collab_data_documents', 'collab_data_documents']"
      ]
     },
     "execution_count": 21,
     "metadata": {},
     "output_type": "execute_result"
    }
   ],
   "source": [
    "db.collection_names()"
   ]
  },
  {
   "cell_type": "code",
   "execution_count": 25,
   "metadata": {
    "collapsed": true
   },
   "outputs": [],
   "source": [
    "o_docs = db['o_collab_data_documents']\n",
    "docs=db['collab_data_documents']"
   ]
  },
  {
   "cell_type": "code",
   "execution_count": 42,
   "metadata": {
    "scrolled": false
   },
   "outputs": [
    {
     "name": "stdout",
     "output_type": "stream",
     "text": [
      "{'_id': ObjectId('59f7957eda8b4a2950d41c7b'),\n",
      " 'create': {'data': '', 'type': 'http://sharejs.org/types/JSONv0'},\n",
      " 'd': 'editor1',\n",
      " 'm': {'ts': 1509397886746.0},\n",
      " 'o': None,\n",
      " 'seq': 1,\n",
      " 'src': '6920c518e68c156fc8ee45d80ff8083b',\n",
      " 'v': 0}\n",
      "{'_id': ObjectId('59f7957eda8b4a2950d41c7c'),\n",
      " 'create': {'data': '', 'type': 'http://sharejs.org/types/JSONv0'},\n",
      " 'd': 'editor2',\n",
      " 'm': {'ts': 1509397886749.0},\n",
      " 'o': None,\n",
      " 'seq': 2,\n",
      " 'src': '6920c518e68c156fc8ee45d80ff8083b',\n",
      " 'v': 0}\n",
      "{'_id': ObjectId('59f795a1da8b4a2950d41c7d'),\n",
      " 'd': 'editor1',\n",
      " 'm': {'ts': 1509397921182.0},\n",
      " 'o': ObjectId('59f7957eda8b4a2950d41c7b'),\n",
      " 'op': [{'p': [0], 'si': 'y'}],\n",
      " 'seq': 1,\n",
      " 'src': '800bac90e1d4e68292b21c3ad1071d49',\n",
      " 'v': 1}\n",
      "{'_id': ObjectId('59f795a1da8b4a2950d41c7e'),\n",
      " 'd': 'editor1',\n",
      " 'm': {'ts': 1509397921208.0},\n",
      " 'o': ObjectId('59f795a1da8b4a2950d41c7d'),\n",
      " 'op': [{'p': [1], 'si': 'o'}],\n",
      " 'seq': 2,\n",
      " 'src': '800bac90e1d4e68292b21c3ad1071d49',\n",
      " 'v': 2}\n",
      "{'_id': ObjectId('59f79b26da8b4a2950d41c7f'),\n",
      " 'd': 'editor1',\n",
      " 'm': {'ts': 1509399334399.0},\n",
      " 'o': ObjectId('59f795a1da8b4a2950d41c7e'),\n",
      " 'op': [{'p': [2], 'si': ' '}],\n",
      " 'seq': 3,\n",
      " 'src': '800bac90e1d4e68292b21c3ad1071d49',\n",
      " 'v': 3}\n",
      "{'_id': ObjectId('59f79b26da8b4a2950d41c80'),\n",
      " 'd': 'editor1',\n",
      " 'm': {'ts': 1509399334974.0},\n",
      " 'o': ObjectId('59f79b26da8b4a2950d41c7f'),\n",
      " 'op': [{'p': [3], 'si': 'c'}],\n",
      " 'seq': 4,\n",
      " 'src': '800bac90e1d4e68292b21c3ad1071d49',\n",
      " 'v': 4}\n",
      "{'_id': ObjectId('59f79b27da8b4a2950d41c81'),\n",
      " 'd': 'editor1',\n",
      " 'm': {'ts': 1509399335084.0},\n",
      " 'o': ObjectId('59f79b26da8b4a2950d41c80'),\n",
      " 'op': [{'p': [4], 'si': 'a'}],\n",
      " 'seq': 5,\n",
      " 'src': '800bac90e1d4e68292b21c3ad1071d49',\n",
      " 'v': 5}\n",
      "{'_id': ObjectId('59f79b27da8b4a2950d41c82'),\n",
      " 'd': 'editor1',\n",
      " 'm': {'ts': 1509399335246.0},\n",
      " 'o': ObjectId('59f79b27da8b4a2950d41c81'),\n",
      " 'op': [{'p': [5], 'si': ' '}],\n",
      " 'seq': 6,\n",
      " 'src': '800bac90e1d4e68292b21c3ad1071d49',\n",
      " 'v': 6}\n",
      "{'_id': ObjectId('59f79b27da8b4a2950d41c83'),\n",
      " 'd': 'editor1',\n",
      " 'm': {'ts': 1509399335357.0},\n",
      " 'o': ObjectId('59f79b27da8b4a2950d41c82'),\n",
      " 'op': [{'p': [6], 'si': 'v'}],\n",
      " 'seq': 7,\n",
      " 'src': '800bac90e1d4e68292b21c3ad1071d49',\n",
      " 'v': 7}\n",
      "{'_id': ObjectId('59f79b27da8b4a2950d41c84'),\n",
      " 'd': 'editor1',\n",
      " 'm': {'ts': 1509399335492.0},\n",
      " 'o': ObjectId('59f79b27da8b4a2950d41c83'),\n",
      " 'op': [{'p': [7], 'si': 'a'}],\n",
      " 'seq': 8,\n",
      " 'src': '800bac90e1d4e68292b21c3ad1071d49',\n",
      " 'v': 8}\n",
      "{'_id': ObjectId('59f79b27da8b4a2950d41c85'),\n",
      " 'd': 'editor1',\n",
      " 'm': {'ts': 1509399335612.0},\n",
      " 'o': ObjectId('59f79b27da8b4a2950d41c84'),\n",
      " 'op': [{'p': [8], 'si': ' '}],\n",
      " 'seq': 9,\n",
      " 'src': '800bac90e1d4e68292b21c3ad1071d49',\n",
      " 'v': 9}\n",
      "{'_id': ObjectId('59f79b28da8b4a2950d41c86'),\n",
      " 'd': 'editor1',\n",
      " 'm': {'ts': 1509399336266.0},\n",
      " 'o': ObjectId('59f79b27da8b4a2950d41c85'),\n",
      " 'op': [{'p': [9], 'si': '?'}],\n",
      " 'seq': 10,\n",
      " 'src': '800bac90e1d4e68292b21c3ad1071d49',\n",
      " 'v': 10}\n",
      "{'_id': ObjectId('59f79b40da8b4a2950d41c87'),\n",
      " 'd': 'editor1',\n",
      " 'm': {'ts': 1509399360851.0},\n",
      " 'o': ObjectId('59f79b28da8b4a2950d41c86'),\n",
      " 'op': [{'p': [10], 'si': ' '}],\n",
      " 'seq': 11,\n",
      " 'src': '800bac90e1d4e68292b21c3ad1071d49',\n",
      " 'v': 11}\n",
      "{'_id': ObjectId('59f79b41da8b4a2950d41c88'),\n",
      " 'd': 'editor1',\n",
      " 'm': {'ts': 1509399361522.0},\n",
      " 'o': ObjectId('59f79b40da8b4a2950d41c87'),\n",
      " 'op': [{'p': [11], 'si': 'ca va ?'}],\n",
      " 'seq': 12,\n",
      " 'src': '800bac90e1d4e68292b21c3ad1071d49',\n",
      " 'v': 12}\n",
      "{'_id': ObjectId('59f79b53da8b4a2950d41c89'),\n",
      " 'd': 'editor1',\n",
      " 'm': {'ts': 1509399379402.0},\n",
      " 'o': ObjectId('59f79b41da8b4a2950d41c88'),\n",
      " 'op': [{'p': [0], 'si': 'n'}],\n",
      " 'seq': 13,\n",
      " 'src': '800bac90e1d4e68292b21c3ad1071d49',\n",
      " 'v': 13}\n",
      "{'_id': ObjectId('59f79b53da8b4a2950d41c8a'),\n",
      " 'd': 'editor1',\n",
      " 'm': {'ts': 1509399379616.0},\n",
      " 'o': ObjectId('59f79b53da8b4a2950d41c89'),\n",
      " 'op': [{'p': [1], 'si': 'o'}],\n",
      " 'seq': 14,\n",
      " 'src': '800bac90e1d4e68292b21c3ad1071d49',\n",
      " 'v': 14}\n",
      "{'_id': ObjectId('59f79b53da8b4a2950d41c8b'),\n",
      " 'd': 'editor1',\n",
      " 'm': {'ts': 1509399379762.0},\n",
      " 'o': ObjectId('59f79b53da8b4a2950d41c8a'),\n",
      " 'op': [{'p': [2], 'si': 'o'}],\n",
      " 'seq': 15,\n",
      " 'src': '800bac90e1d4e68292b21c3ad1071d49',\n",
      " 'v': 15}\n",
      "{'_id': ObjectId('59f79b53da8b4a2950d41c8c'),\n",
      " 'd': 'editor1',\n",
      " 'm': {'ts': 1509399379932.0},\n",
      " 'o': ObjectId('59f79b53da8b4a2950d41c8b'),\n",
      " 'op': [{'p': [3], 'si': 'o'}],\n",
      " 'seq': 16,\n",
      " 'src': '800bac90e1d4e68292b21c3ad1071d49',\n",
      " 'v': 16}\n",
      "{'_id': ObjectId('59f79b54da8b4a2950d41c8d'),\n",
      " 'd': 'editor1',\n",
      " 'm': {'ts': 1509399380106.0},\n",
      " 'o': ObjectId('59f79b53da8b4a2950d41c8c'),\n",
      " 'op': [{'p': [4], 'si': 'o'}],\n",
      " 'seq': 17,\n",
      " 'src': '800bac90e1d4e68292b21c3ad1071d49',\n",
      " 'v': 17}\n",
      "{'_id': ObjectId('59f79b54da8b4a2950d41c8e'),\n",
      " 'd': 'editor1',\n",
      " 'm': {'ts': 1509399380287.0},\n",
      " 'o': ObjectId('59f79b54da8b4a2950d41c8d'),\n",
      " 'op': [{'p': [5], 'si': 'n'}],\n",
      " 'seq': 18,\n",
      " 'src': '800bac90e1d4e68292b21c3ad1071d49',\n",
      " 'v': 18}\n",
      "{'_id': ObjectId('59f79b54da8b4a2950d41c8f'),\n",
      " 'd': 'editor1',\n",
      " 'm': {'ts': 1509399380866.0},\n",
      " 'o': ObjectId('59f79b54da8b4a2950d41c8e'),\n",
      " 'op': [{'p': [6], 'si': ' '}],\n",
      " 'seq': 19,\n",
      " 'src': '800bac90e1d4e68292b21c3ad1071d49',\n",
      " 'v': 19}\n",
      "{'_id': ObjectId('59f79b75da8b4a2950d41c90'),\n",
      " 'd': 'editor1',\n",
      " 'm': {'ts': 1509399413692.0},\n",
      " 'o': ObjectId('59f79b54da8b4a2950d41c8f'),\n",
      " 'op': [{'p': [7], 'sd': 'y'}],\n",
      " 'seq': 20,\n",
      " 'src': '800bac90e1d4e68292b21c3ad1071d49',\n",
      " 'v': 20}\n",
      "{'_id': ObjectId('59f79b75da8b4a2950d41c91'),\n",
      " 'd': 'editor1',\n",
      " 'm': {'ts': 1509399413904.0},\n",
      " 'o': ObjectId('59f79b75da8b4a2950d41c90'),\n",
      " 'op': [{'p': [7], 'sd': 'o'}],\n",
      " 'seq': 21,\n",
      " 'src': '800bac90e1d4e68292b21c3ad1071d49',\n",
      " 'v': 21}\n",
      "{'_id': ObjectId('59f79b77da8b4a2950d41c92'),\n",
      " 'd': 'editor1',\n",
      " 'm': {'ts': 1509399415057.0},\n",
      " 'o': ObjectId('59f79b75da8b4a2950d41c91'),\n",
      " 'op': [{'p': [7], 'sd': ' '}],\n",
      " 'seq': 22,\n",
      " 'src': '800bac90e1d4e68292b21c3ad1071d49',\n",
      " 'v': 22}\n",
      "{'_id': ObjectId('59f79b97da8b4a2950d41c93'),\n",
      " 'd': 'editor1',\n",
      " 'm': {'ts': 1509399447116.0},\n",
      " 'o': ObjectId('59f79b77da8b4a2950d41c92'),\n",
      " 'op': [{'p': [7], 'sd': 'ca '}],\n",
      " 'seq': 23,\n",
      " 'src': '800bac90e1d4e68292b21c3ad1071d49',\n",
      " 'v': 23}\n",
      "{'_id': ObjectId('59f79bbcda8b4a2950d41c94'),\n",
      " 'd': 'editor1',\n",
      " 'm': {'ts': 1509399484795.0},\n",
      " 'o': ObjectId('59f79b97da8b4a2950d41c93'),\n",
      " 'op': [{'p': [12], 'sd': 'ca'}, {'p': [12], 'si': 'va'}],\n",
      " 'seq': 24,\n",
      " 'src': '800bac90e1d4e68292b21c3ad1071d49',\n",
      " 'v': 24}\n"
     ]
    }
   ],
   "source": [
    "import pprint\n",
    "for item in o_docs.find():\n",
    "    pprint.pprint(item)"
   ]
  },
  {
   "cell_type": "code",
   "execution_count": 43,
   "metadata": {},
   "outputs": [],
   "source": [
    "client.drop_database('my-collaborative-app')"
   ]
  },
  {
   "cell_type": "code",
   "execution_count": null,
   "metadata": {
    "collapsed": true
   },
   "outputs": [],
   "source": []
  }
 ],
 "metadata": {
  "kernelspec": {
   "display_name": "Python 3",
   "language": "python",
   "name": "python3"
  },
  "language_info": {
   "codemirror_mode": {
    "name": "ipython",
    "version": 3
   },
   "file_extension": ".py",
   "mimetype": "text/x-python",
   "name": "python",
   "nbconvert_exporter": "python",
   "pygments_lexer": "ipython3",
   "version": "3.6.0"
  }
 },
 "nbformat": 4,
 "nbformat_minor": 2
}
