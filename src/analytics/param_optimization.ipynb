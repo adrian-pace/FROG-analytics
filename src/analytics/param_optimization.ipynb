from analytics import operation_builder
from analytics.parser import *
import matplotlib.pyplot as plt
from analytics.visualization import *
import numpy as np
import os

list_of_elem_ops_per_pad = dict()
elemOpsCounter = 0
root_of_dbs = "../belgian_experiment/"
for (dirpath, dirnames, filenames) in os.walk(root_of_dbs):
    for filename in filenames:
        if ".db" in filename:
            path_to_db = os.path.join(dirpath, filename)
            list_of_elem_ops_per_main, _ = get_elem_ops_per_pad_from_db(path_to_db=path_to_db, editor='etherpadSQLite3')
            pad_name = path_to_db[len(root_of_dbs):path_to_db.find("data") - 1]
            assert len(list_of_elem_ops_per_main.keys()) == 1
            list_of_elem_ops_per_pad[pad_name] = list_of_elem_ops_per_main['main']

pads, _, elem_ops_treated = operation_builder.build_operations_from_elem_ops(list_of_elem_ops_per_pad,
                                                                             config.maximum_time_between_elem_ops)
for pad_name in pads:
    elemOpsCounter += len(elem_ops_treated[pad_name])
    pad = pads[pad_name]
    # create the paragraphs
    pad.create_paragraphs_from_ops(elem_ops_treated[pad_name])
    # classify the operations of the pad
    pad.classify_operations(length_edit=config.length_edit, length_delete=config.length_delete)
    # find the context of the operation of the pad
    pad.build_operation_context(config.delay_sync, config.time_to_reset_day, config.time_to_reset_break)

    # plot the overall type counts
    display_overall_op_type(pad, config.figs_save_location)

def display_best_delay_between_elem_op(list_of_elem_ops_per_pad):
    #store delays between elem_op for all pads
    delays = []
    for pad_name, list_elem_op in list_of_elem_ops_per_pad.items():
        sorted_elem_ops = ElementaryOperation.sort_elem_ops(list_elem_op)
        first = True
        for i, elem_op in enumerate(sorted_elem_ops):
            if not first:
                delays.append(elem_op.timestamp - sorted_elem_ops[i-1].timestamp)
            first = False

    # plot the distributions of delays
    bins = np.logspace(0, 4, 100)
    plt.subplots(figsize=(16,16))
    n, bins, patches = plt.hist(delays, bins=bins)
    plt.xlim([0, 10000])
    x_over = np.where(n>4000)[0]
    # Plot a line where we need to cut ops
    best_delay = bins[x_over[len(x_over)-1]+1]
    print('The selected delay between elem_ops is %s s' % str(best_delay/1000))
    plt.axvline(best_delay, color='r')
    plt.title('Distribution of delay between Elementary Operations in ms')
    plt.show()
    plt.savefig(config.figs_save_location+'/optimization/delay_between_elem_op')

display_overall_op_type(list_of_elem_ops_per_pad)



