{
 "cells": [
  {
   "cell_type": "code",
   "execution_count": 9,
   "metadata": {},
   "outputs": [],
   "source": [
    "from analytics import operation_builder, parser, visualization\n",
    "\n",
    "import config\n",
    "import os\n",
    "import run_analytics\n",
    "import sys"
   ]
  },
  {
   "cell_type": "markdown",
   "metadata": {},
   "source": [
    "#### Read the pads:"
   ]
  },
  {
   "cell_type": "code",
   "execution_count": 10,
   "metadata": {},
   "outputs": [],
   "source": [
    "# Get the lists of elementary operations\n",
    "list_of_elem_ops_per_pad = {}\n",
    "root_of_dbs = \"../../Data/private/\"\n",
    "for (dirpath, dirnames, filenames) in os.walk(root_of_dbs):\n",
    "    for filename in filenames:\n",
    "        if \".sql\" in filename:\n",
    "            path_to_db = os.path.join(dirpath, filename)\n",
    "            list_of_elem_ops_per_main = parser.get_elem_ops_per_pad_from_db(\n",
    "                path_to_db, \"sql_dump\")\n",
    "            list_of_elem_ops_per_pad = {**list_of_elem_ops_per_pad,\n",
    "                                        **list_of_elem_ops_per_main}\n",
    "\n",
    "# We create the operation from the list of elementary operations\n",
    "pads, _, _ = operation_builder.build_operations_from_elem_ops(\n",
    "    list_of_elem_ops_per_pad,\n",
    "    config.maximum_time_between_elem_ops)"
   ]
  },
  {
   "cell_type": "markdown",
   "metadata": {},
   "source": [
    "#### Get paragraphs for final pads"
   ]
  },
  {
   "cell_type": "code",
   "execution_count": 11,
   "metadata": {},
   "outputs": [
    {
     "name": "stdout",
     "output_type": "stream",
     "text": [
      "Red Yeast Rice\n",
      "\n",
      "\n",
      "Definition:\n",
      "\n",
      "\n",
      "Red yeast rice is a substance that's extracted from rice that's been  fermented with a type of yeast called Monascus purpureus. It's been used  in China and other Asian countries for centuries as a traditional  medicine. It's also used as a food colouring, additive, and  preservative.\n",
      "Red yeast rice naturally contains several  ingredients that may help maintain healthy cholesterol levels, but this  is not proven. The ingredients include a number of monacolins, most  importantly monacolin K.  It also contains sterols, isoflavones, and  monounsaturated fatty acids, or \"healthy fats.\"\n",
      "\n",
      "\n",
      "Source:  http://www.webmd.boots.com/cholesterol-management/guide/red-yeast-rice\n",
      "\n",
      "\n",
      "Current Situation:\n",
      "    \n",
      "In 1998, the FDA determined that a red yeast rice product that  contained a substantial amount of monacolin K was an unapproved new  drug, not a dietary supplement.  On several occasions since then, the FDA has taken action against  companies selling red yeast rice products that contain more than trace  amounts of monacolin K, warning them that it is against the law to  market these products as dietary supplements.\n",
      "Despite the FDA actions, some red yeast rice products currently on  the market in the United States may contain monacolin K. (Some products  tested as recently as 2011 have been found to contain it in substantial  amounts.) Other products may contain little or none of this component.  Consumers have no way of knowing how much monacolin K is present in most  red yeast rice products, and therefore have no way of knowing whether a  particular product is safe, effective, or legal. The labels on these  products usually state only the amount of red yeast rice that they  contain, not the amounts of monacolin K or other monacolins.\n",
      "\n",
      "\n",
      "Throughout this extract of a whole article about Red Yeast Rice, one can see that Red Yeast Rice can be an illegal drug and is unapproved by the FDA if it contains a certain amount of monacolin K. This shows that it can be very dangerous for unknowing consumers to consume Red Yeast Rice because there is \"no way of knowing whether a particular product is safe\".\n",
      "\n",
      "\n",
      "Source: http://nccam.nih.gov/health/redyeastrice\n",
      "\n",
      "\n",
      "Benefits: \n",
      "* Helps lower Cholesterol\n",
      "*-> Doctors prescribe statins to lower \"bad\" LDL cholesterol levels and help reduce the risk of heart disease. This is a valid reason to consume Red Yeast Rice products\n",
      "*\n",
      "*Source: Red yeast rice | University of Maryland Medical Center http://umm.edu/health/medical/altmed/supplement/red-yeast-rice#ixzz3FXHD0qfc\n",
      "*University of Maryland Medical Center  \n",
      "*\n",
      "*\n",
      "*Improving blood circulations\n",
      "*-> Especially when you reach a certain age it is vital to have a decent blood circulation\n",
      "*Source : http://umm.edu/health/medical/altmed/supplement/red-yeast-rice\n",
      "*\n",
      "*Help digestive problems\n",
      "*-> Natural way to deal with digestive problems and therefore a good reason to consume\n",
      "*Source: http://pennstatehershey.adam.com/content.aspx?productId=107&pid=33&gid=000323\n",
      "\n",
      "\n",
      "Dangers:\n",
      "*    Some red yeast rice products contain a contaminant called citrinin, which can cause kidney failure.\n",
      "    -> This is an argument which is very valid and should not be overseen because it can severely danger one's health.\n",
      "    Source: http://nccam.nih.gov/health/redyeastrice\n",
      "\n",
      "\n",
      "*Red yeast rice is a statin drug -- with all the same side effects \n",
      "      -> People who are should inform themselves about all the possible dangers and side effects of Red Yeast Rice and question themselves if they still want to use Red Yeast Rice.\n",
      "      Source:http://articles.mercola.com/sites/articles/archive/2009/09/10/why-you-should-avoid-red-rice-yeast.aspx\n",
      "      \n",
      "*Exposing yourself to these  potentially serious risks by taking statin drugs becomes even more  unacceptable when you understand the truth about cholesterol -- that it  is actually your friend, not your enemy.\n",
      "       ->People need to realize that it could be worse to consume Red Yeast Rice than having a high cholesterol level.\n",
      "       Source: http://articles.mercola.com/sites/articles/archive/2009/09/10/why-you-should-avoid-red-rice-yeast.aspx\n",
      "       \n",
      "       \n",
      "       \n",
      "       \n",
      "       Final Statement:\n",
      "        \n",
      "        Having researched the topic whether Red Yeast Rice is a dangerous product we, as a team came up with different arguments favoring both sides, the benefits and also the dangers of consuming Red Yeast Rice.\n",
      "        Weighing up all the arguments from both sides, we came to the conclusion that we as advisees for a French official would not recommend to consume Red Yeast Rice. \n",
      "        The reason why we would not recommend it, simply is that even if there is no real prove of actual health problems, Red Yeast Rice is still seen as a statin drug with many possibly dangers and side effects to it.\n",
      "        So it could severely danger one's health.\n",
      "        So our point is that even if consuming Red Yeast Rice is a good way to lower one's cholesterol level, one should not oversee all the dangers and risks to it and should find another, safer way.\n",
      "\n",
      "\n"
     ]
    }
   ],
   "source": [
    "pad = pads[\"edusearch2014_report-149-25-2\"]\n",
    "for pt in pad.get_paragraphs_text():\n",
    "    print(pt)\n",
    "    print()\n",
    "    print()"
   ]
  },
  {
   "cell_type": "code",
   "execution_count": 12,
   "metadata": {},
   "outputs": [
    {
     "name": "stdout",
     "output_type": "stream",
     "text": [
      "The official has heard that French officials have raised some  concerns about the safety of 'Red Yeast Rice' and potential  contamination, and would like a briefing on its potential risk.\n",
      "\n",
      "\n",
      "What is red yeast rice ?\n",
      "\n",
      "\n",
      "Red yeast rice is a substance that's extracted from rice that's been fermented with a type of yeast called Monascus purpureus.  It's been used in China and other Asian countries for centuries as a  traditional medicine. It's also used as a food coloring, additive, and  preservative. Red yeast rice naturally contains several ingredients that may help  control cholesterol levels. These include a number of monacolins, most  importantly monacolin K. It also contains sterols, isoflavones, and  monounsaturated fatty acids, or \"healthy fats.\"\n",
      "\n",
      "\n",
      "Benefits of Red Yeast Rice have mostly been found in  Chinese medicine, which says that, red yeast rice is used to lower cholesterol, improve blood circulation, and help digestive problems.Several studies have shown that red yeast rice lowers \"bad\" LDL  cholesterol levels. High cholesterol levels raise the risk of heart  disease. Red yeast stops the action of an enzyme in the body that helps make cholesterol. One study showed that taking 2.4 grams per day of red yeast rice reduced LDL  levels by 22% and total cholesterol by 16% in 12 weeks. Another study  showed that taking 1.2 grams per day lowered LDL levels by 26% in just  eight weeks. Although, researchers aren't sure if red yeast rice lowers cholesterol because of  the statin-like chemical or because of other things in red yeast rice,  such as unsaturated fatty acids, isoflavones, and phytosterols. But  because many red yeast rice supplements did have monacolin, the Food and  Drug Administration (FDA) considered them to be drugs. Manufacturers  were supposed to remove any red yeast rice products with monacolin from  the market. As a result, many of the red yeast rice products you can  buy may not contain monacolin.\n",
      "\n",
      "\n",
      "Asia and Chinese communities in North America use red yeast rice in  powdered form as a food coloring for fish, alcoholic beverages, and  cheese.\n",
      "\n",
      "\n",
      "Althoug there are also a lot of risks, concerning the consumation of Red Yeast Rice.\n",
      "\n",
      "\n",
      "First of all, there may be some allergic reactions, for exapmple: Eye inflammation,  hives, itching, nose inflammation, severe allergic  reactions, shortness  of breath, sneezing, and swelling under the skin.\n",
      "\n",
      "\n",
      "Furthermore people younger than 20 and pregnant and breastfeeding women should not take red yeast rice\n",
      "\n",
      "\n",
      "Researchers don't know whether it is safe to use red yeast rice for longer than 12 weeks.\n",
      "\n",
      "\n",
      "People  with liver disease and those at risk for liver disease should not take red yeast rice. Red yeast rice may affect the function in the same way  prescription drugs to lower cholesterol.\n",
      "\n",
      "\n",
      "People with kidney disease, thyroid problems, musculoskeletal disorders, or those at higher risk of cancer shoul not take red yeast rice.\n",
      "\n",
      "\n",
      "People  who drink more than two alcoholic beverages a day, have a serious  infection or physical condition, or have had an organ transplant should  also avoid using red yeast rice.\n",
      "\n",
      "\n",
      "Side effects of red yeast rice are rare but can include:\n",
      "\n",
      "\n",
      "*Headache\n",
      "\n",
      "\n",
      "*Stomach ache or bloating\n",
      "\n",
      "\n",
      "*Gas\n",
      "\n",
      "\n",
      "*Dizziness\n",
      "\n",
      "\n",
      "*Heartburn\n",
      "\n",
      "\n",
      "*Muscle  aches and weakness -- this can lead to a rare but serious condition  called rhabdomyolysis. Stop taking red yeast rice immediately and call  your doctor\n",
      "\n",
      "\n",
      "*An increased risk of polyneuropathy (nerve damage that causes pain in the hands and feet and trouble walking)\n",
      "\n",
      "\n",
      "*Cognitive impairment, including memory loss[5]\n",
      "\n",
      "\n",
      "*A potential increased risk of cancer[6]\n",
      "\n",
      "\n",
      "*Decreased function of your immune system[7]\n",
      "\n",
      "\n",
      "*Depression\n",
      "\n",
      "\n",
      "*Liver problems, including a potential increase in liver enzymes  (so people taking statins must be regularly monitored for normal liver  function)\n",
      "\n",
      "\n",
      "*A possible association have been found between statins and an increased risk of Lou Gehrig's disease.\n",
      "\n",
      "\n",
      "The same types of side effects that can occur in patients taking  lovastatin as a drug can also occur in patients who take red yeast rice  products that contain monacolin K. Potential side effects include  myopathy (muscle symptoms such as pain and weakness), rhabdomyolysis (a  condition in which muscle fibers break down, releasing substances into  the bloodstream that can harm the kidneys), and liver toxicity. Each of  these three side effects has been reported in people who were taking red  yeast rice.\n",
      "\n",
      "\n",
      "Red yeast rice may be appealing because it's \"natural,\" but you need to  be careful. Experts have not studied it extensively. The ideal dosing  and long-term safety are unclear. It could be dangerous for some people.  And because the ingredients of different brands of red yeast rice  extract might vary so much, it's hard to make firm statements about its  effectiveness or safety.\n",
      "\n",
      "\n",
      "Sources:\n",
      "\n",
      "\n",
      "http://www.webmd.com/cholesterol-management/red-yeast-rice\n",
      "\n",
      "\n",
      "http://umm.edu/health/medical/altmed/supplement/red-yeast-rice#ixzz3FTBwRWQQ\n",
      "\n",
      "\n",
      "http://articles.mercola.com/sites/articles/archive/2009/09/10/why-you-should-avoid-red-rice-yeast.aspx\n",
      "\n",
      "\n",
      "http://www.mayoclinic.org/drugs-supplements/red-yeast-rice/safety/hrb-20059910\n",
      "\n",
      "\n",
      "http://nccam.nih.gov/health/redyeastrice\n",
      "\n",
      "\n",
      "http://www.drugs.com/mtm/red-yeast-rice.html\n",
      "\n",
      "\n"
     ]
    }
   ],
   "source": [
    "pad = pads[\"edusearch2014_report-103-25-2\"]\n",
    "for pt in pad.get_paragraphs_text():\n",
    "    print(pt)\n",
    "    print()\n",
    "    print()"
   ]
  },
  {
   "cell_type": "markdown",
   "metadata": {},
   "source": [
    "#### Get paragraphs for a pad at a specific time"
   ]
  },
  {
   "cell_type": "code",
   "execution_count": 13,
   "metadata": {},
   "outputs": [],
   "source": [
    "start_times = {pad_name: pad.get_timestamps()[0] for pad_name, pad in pads.items()}"
   ]
  },
  {
   "cell_type": "code",
   "execution_count": 14,
   "metadata": {
    "scrolled": true
   },
   "outputs": [
    {
     "name": "stdout",
     "output_type": "stream",
     "text": [
      "Red Yeast Rice\n",
      "\n",
      "\n",
      "Definition:\n",
      "\n",
      "\n",
      "Red yeast rice is a substance that's extracted from rice that's been  fermented with a type of yeast called Monascus purpureus. It's been used  in China and other Asian countries for centuries as a traditional  medicine. It's also used as a food colouring, additive, and  preservative.\n",
      "Red yeast rice naturally contains several  ingredients that may help maintain healthy cholesterol levels, but this  is not proven. The ingredients include a number of monacolins, most  importantly monacolin K.  It also contains sterols, isoflavones, and  monounsaturated fatty acids, or \"healthy fats.\"\n",
      "\n",
      "\n",
      "Source:  http://www.webmd.boots.com/cholesterol-management/guide/red-yeast-rice\n",
      "\n",
      "\n",
      "Current Situation:\n",
      "    \n",
      "In 1998, the FDA determined that a red yeast rice product that  contained a substantial amount of monacolin K was an unapproved new  drug, not a dietary supplement.  On several occasions since then, the FDA has taken action against  companies selling red yeast rice products that contain more than trace  amounts of monacolin K, warning them that it is against the law to  market these products as dietary supplements.\n",
      "Despite the FDA actions, some red yeast rice products currently on  the market in the United States may contain monacolin K. (Some products  tested as recently as 2011 have been found to contain it in substantial  amounts.) Other products may contain little or none of this component.  Consumers have no way of knowing how much monacolin K is present in most  red yeast rice products, and therefore have no way of knowing whether a  particular product is safe, effective, or legal. The labels on these  products usually state only the amount of red yeast rice that they  contain, not the amounts of monacolin K or other monacolins.\n",
      "\n",
      "\n",
      "Throughout this extract of a whole article about Red Yeast Rice, one can see that Red Yeast Rice can be an illegal drug and is unapproved by the FDA if it contains a certain amount of monacolin K. \n",
      "Source: http://nccam.nih.gov/health/redyeastrice\n",
      "\n",
      "\n",
      "Benefits: \n",
      "* Helps lower Cholesterol\n",
      "\n",
      "\n"
     ]
    }
   ],
   "source": [
    "pad_name = \"edusearch2014_report-149-25-2\"\n",
    "\n",
    "# Check paragraphs existing after 15 min\n",
    "window_length = 60000 * 15\n",
    "pad_all = pads[pad_name]\n",
    "\n",
    "# Get the pad ending at end_window\n",
    "new_pad, new_elem_ops = pad_all.pad_at_timestamp(start_times[pad_name] + window_length)\n",
    "# Create the paragraphs\n",
    "new_pad.create_paragraphs_from_ops(new_elem_ops,\n",
    "    ignore_assertions=True)\n",
    "\n",
    "for pt in new_pad.get_paragraphs_text():\n",
    "    print(pt)\n",
    "    print()\n",
    "    print()"
   ]
  },
  {
   "cell_type": "markdown",
   "metadata": {},
   "source": [
    "#### Get paragraphs for a time window"
   ]
  },
  {
   "cell_type": "code",
   "execution_count": 15,
   "metadata": {},
   "outputs": [],
   "source": [
    "start_times = {pad_name: pad.get_timestamps()[0] for pad_name, pad in pads.items()}"
   ]
  },
  {
   "cell_type": "code",
   "execution_count": 16,
   "metadata": {
    "scrolled": true
   },
   "outputs": [
    {
     "name": "stdout",
     "output_type": "stream",
     "text": [
      "Throughout this extract of a whole article about Red Yeast Rice, one can see that Red Yeast Rice can be an illegal drug and is unapproved by the FDA if it contains a certain amount of monacolin K. This shows that it can be very dangerous for unknowing consumers to consume Red Yeast Rice because there is \"no way of knowing whether a particular product is safe\".\n",
      "\n",
      "\n",
      "Source: http://nccam.nih.gov/health/redyeastrice\n",
      "\n",
      "\n",
      "Benefits: \n",
      "* Helps lower Cholesterol\n",
      "*-> Doctors prescribe \n",
      "*Improving blood circulations\n",
      "*Help digestive problems\n",
      "\n",
      "\n",
      "Dangers:\n",
      "*    Some red yeast rice products contain a contaminant called citrinin, which can cause kidney failure.\n",
      "    -> This is an argument which is very valid and should not be overseen because it can severely danger one's health.\n",
      "    Source: http://nccam.nih.gov/health/redyeastrice\n",
      "\n",
      "\n",
      "*Red yeast rice is a statin drug -- with all the same side effects \n",
      "*->\n",
      "\n",
      "\n"
     ]
    }
   ],
   "source": [
    "pad_name = \"edusearch2014_report-149-25-2\"\n",
    "\n",
    "# Check paragraphs between minutes 15 and 25\n",
    "window_lengths = [60000 * 15, 60000 * 25]\n",
    "pad_all = pads[pad_name]\n",
    "\n",
    "# Get the pads ending at end_windows\n",
    "new_pad_1, new_elem_ops_1 = pad_all.pad_at_timestamp(start_times[pad_name] + window_lengths[0])\n",
    "new_pad_2, new_elem_ops_2 = pad_all.pad_at_timestamp(start_times[pad_name] + window_lengths[1])\n",
    "# Create the paragraphs\n",
    "new_pad_1.create_paragraphs_from_ops(new_elem_ops_1,\n",
    "    ignore_assertions=True)\n",
    "new_pad_2.create_paragraphs_from_ops(new_elem_ops_2,\n",
    "    ignore_assertions=True)\n",
    "\n",
    "para_text_1 = new_pad_1.get_paragraphs_text()\n",
    "para_text_2 = new_pad_2.get_paragraphs_text()\n",
    "\n",
    "difference = []\n",
    "\n",
    "for pt in para_text_2:\n",
    "    if pt not in para_text_1:\n",
    "        difference.append(pt)\n",
    "\n",
    "for pt in difference:\n",
    "    print(pt)\n",
    "    print()\n",
    "    print()\n",
    "    "
   ]
  },
  {
   "cell_type": "code",
   "execution_count": null,
   "metadata": {},
   "outputs": [],
   "source": []
  }
 ],
 "metadata": {
  "kernelspec": {
   "display_name": "Python 3",
   "language": "python",
   "name": "python3"
  },
  "language_info": {
   "codemirror_mode": {
    "name": "ipython",
    "version": 3
   },
   "file_extension": ".py",
   "mimetype": "text/x-python",
   "name": "python",
   "nbconvert_exporter": "python",
   "pygments_lexer": "ipython3",
   "version": "3.6.5"
  }
 },
 "nbformat": 4,
 "nbformat_minor": 2
}
