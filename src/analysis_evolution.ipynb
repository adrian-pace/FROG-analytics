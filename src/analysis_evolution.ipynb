{
 "cells": [
  {
   "cell_type": "markdown",
   "metadata": {},
   "source": [
    "# Compute Pad heuristics for different time windows"
   ]
  },
  {
   "cell_type": "markdown",
   "metadata": {},
   "source": [
    "Timewindows are defined of a constant length. Pad operations are not assumed to start at the same timestamp, so the timewindows are defined for `pad_timestamp_start + i * window_length` for `i` 0, 1... such that `i * window_length` < pad_timestamp_end for each pad separately."
   ]
  },
  {
   "cell_type": "code",
   "execution_count": 1,
   "metadata": {},
   "outputs": [],
   "source": [
    "from analytics import operation_builder, parser, visualization\n",
    "\n",
    "import config\n",
    "import os\n",
    "import pandas as pd\n",
    "import run_analytics\n",
    "import sys"
   ]
  },
  {
   "cell_type": "markdown",
   "metadata": {},
   "source": [
    "#### Read the pads:"
   ]
  },
  {
   "cell_type": "code",
   "execution_count": 2,
   "metadata": {},
   "outputs": [],
   "source": [
    "# Get the lists of elementary operations\n",
    "list_of_elem_ops_per_pad = {}\n",
    "root_of_dbs = \"../../Data/private/\"\n",
    "for (dirpath, dirnames, filenames) in os.walk(root_of_dbs):\n",
    "    for filename in filenames:\n",
    "        if \".sql\" in filename:\n",
    "            path_to_db = os.path.join(dirpath, filename)\n",
    "            list_of_elem_ops_per_main = parser.get_elem_ops_per_pad_from_db(\n",
    "                path_to_db, \"sql_dump\")\n",
    "            list_of_elem_ops_per_pad = {**list_of_elem_ops_per_pad,\n",
    "                                        **list_of_elem_ops_per_main}\n",
    "\n",
    "# We create the operation from the list of elementary operations\n",
    "pads, _, _ = operation_builder.build_operations_from_elem_ops(\n",
    "    list_of_elem_ops_per_pad,\n",
    "    config.maximum_time_between_elem_ops)"
   ]
  },
  {
   "cell_type": "markdown",
   "metadata": {},
   "source": [
    "Get some information about starting and ending timestamps for each pad and filter out the ones we are not interested in:"
   ]
  },
  {
   "cell_type": "code",
   "execution_count": 3,
   "metadata": {},
   "outputs": [],
   "source": [
    "start_times = {pad_name: pad.get_timestamps()[0] for pad_name, pad in pads.items()}\n",
    "end_times = {pad_name: pad.get_timestamps()[1] for pad_name, pad in pads.items()}\n",
    "time_lengths = {pn: end_times[pn] - p for pn, p in start_times.items()}\n",
    "\n",
    "# Filtering for looking at one single pad (for debugging)\n",
    "# pads = {\"edusearch2014_report-328-25-3\": pads[\"edusearch2014_report-328-25-3\"]}\n",
    "\n",
    "# We will ignore these pads in our analysis\n",
    "# They last longer than 1 day and have one single author\n",
    "pads_2_days_and_1_author = [pn for pn, p in time_lengths.items()\n",
    "                            if p > 5*15*60000]\n",
    "# Filter out the pads that we identified\n",
    "pads = {pn: p for pn, p in pads.items() if pn not in pads_2_days_and_1_author}\n",
    "\n",
    "# pads_safety = pads.copy()\n",
    "\n",
    "# Print some information about starting and ending timestamps\n",
    "print(min(start_times.values())-1412586498527, max(start_times.values())-1412586498527)\n",
    "print(min(end_times.values())-1412586498527, max(end_times.values())-1412586498527)\n",
    "print()\n",
    "print(min(time_lengths.values()), max(time_lengths.values()))"
   ]
  },
  {
   "cell_type": "markdown",
   "metadata": {},
   "source": [
    "#### Generate tsv files \n",
    "\n",
    "Here I iterate through different time windows, and save one tsv file for each of the time windows.\n",
    "\n",
    "Each file contains the information for the pads that have some activity during this time windows (if the pads have finished before the current time window, they are not included in the tsv file).\n",
    "\n",
    "There are two types of heuristics that are computed:\n",
    "1. For each elementary operation\n",
    "2. For the entire pad\n",
    "    1. Computed from start to end\n",
    "    2. Computed from a specific start time to the end\n",
    "\n",
    "Here we are generating the files for 2 (entire pad). In this category there are two types: The ones that are computed from start to end and the ones that are computed from a specific start time to the end.\n",
    "\n",
    "In order to get the heuristics for specific time windows, we need to specify the start and end timestamps:\n",
    "* End timestamp is specified by using `pad.pad_at_timestamp(end_window)`\n",
    "* Start timestamp is specified by using `run_analytics.run` with the parameter `start_time=start_times_old`\n",
    "\n",
    "Therefore:"
   ]
  },
  {
   "cell_type": "code",
   "execution_count": 7,
   "metadata": {},
   "outputs": [],
   "source": [
    "# pads = pads_safety.copy()\n",
    "\n",
    "window_length = 60000 * 5 # 5 minutes-long windows\n",
    "current_minute = 0\n",
    "pads_copy = pads.copy()\n",
    "\n",
    "while len(pads):\n",
    "    # Prepare for printing to file\n",
    "    orig_stdout = sys.stdout\n",
    "    f = open('entries_{}.tsv'.format(current_minute), 'w')\n",
    "    sys.stdout = f\n",
    "    \n",
    "    pads_window = {}\n",
    "    start_times_old = {}\n",
    "\n",
    "    # Get copies of each pad for the current time window\n",
    "    for pad_name, pad in pads.items():\n",
    "        # Increase by 1 minute\n",
    "        end_window = start_times[pad_name] + window_length - 1\n",
    "        # Get the pad ending at end_window\n",
    "        new_pad, new_elem_ops = pad.pad_at_timestamp(end_window)\n",
    "        # Create the paragraphs\n",
    "        new_pad.create_paragraphs_from_ops(new_elem_ops,\n",
    "            ignore_assertions=True)\n",
    "        # Save these start times for later\n",
    "        start_times_old[pad_name] = start_times[pad_name]\n",
    "        # Save this pad in the dictionary\n",
    "        pads_window[pad_name] = new_pad\n",
    "        # Update time values\n",
    "        start_times[pad_name] = end_window + 1\n",
    "\n",
    "        if end_times[pad_name] < start_times[pad_name] + window_length - 1:\n",
    "            del pads_copy[pad_name]\n",
    "\n",
    "    # Compute and save stats for chosen time windows\n",
    "    run_analytics.run(None,\n",
    "        generate_csv_summary=True,\n",
    "        start_time=start_times_old,\n",
    "        pads=pads_window)\n",
    "\n",
    "    pads = pads_copy.copy()\n",
    "    \n",
    "    # Stop printing to file\n",
    "    current_minute += 1\n",
    "    sys.stdout = orig_stdout\n",
    "    f.close()"
   ]
  },
  {
   "cell_type": "markdown",
   "metadata": {},
   "source": [
    "You can check the code for the function `run_analytics.run` to see how the parameter `start_times` is used -specifically, it is used by the functions to compute metrics that are defined in `Pad.py`."
   ]
  },
  {
   "cell_type": "markdown",
   "metadata": {},
   "source": [
    "As the paragraphs are created, superparagraphs are also created - that is, with function `pad.create_paragraphs_from_ops`. Each paragraph represents either one new line character (`\\n`) or one text line that does not contain any new line characters. The concept of superparagraphs is introduced in order to allow groupings of text lines that are separated by only one new line character, and therefore look like what we would usually call a paragraph. The naming may be a bit confusing, but since the code that creates and manages superparagraphs has been added on top of the existing code for paragraphs, we considered that for now it would be better to keep the consistency with the previous versions of the tool.\n",
    "\n",
    "To see how superparagraphs are used when computing the Pad heuristics, functions `superparagraph_average_length` and `average_paragraphs_per_superparagraph` can be seen in `Pad.py`."
   ]
  },
  {
   "cell_type": "code",
   "execution_count": null,
   "metadata": {},
   "outputs": [],
   "source": []
  }
 ],
 "metadata": {
  "kernelspec": {
   "display_name": "Python 3",
   "language": "python",
   "name": "python3"
  },
  "language_info": {
   "codemirror_mode": {
    "name": "ipython",
    "version": 3
   },
   "file_extension": ".py",
   "mimetype": "text/x-python",
   "name": "python",
   "nbconvert_exporter": "python",
   "pygments_lexer": "ipython3",
   "version": "3.6.5"
  }
 },
 "nbformat": 4,
 "nbformat_minor": 2
}
